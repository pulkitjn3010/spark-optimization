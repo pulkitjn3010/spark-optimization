{
 "cells": [
  {
   "cell_type": "code",
   "execution_count": 1,
   "id": "26dcb5a6",
   "metadata": {},
   "outputs": [],
   "source": [
    "import warnings\n",
    "warnings.filterwarnings(\"ignore\")\n",
    "\n",
    "from IPython.core.interactiveshell import InteractiveShell\n",
    "InteractiveShell.ast_node_interactivity = 'all'\n",
    "\n",
    "from pyspark import SparkConf, SparkContext, StorageLevel\n",
    "from pyspark.sql import SparkSession\n",
    "from pyspark.sql.types import DoubleType\n",
    "from pyspark.sql.functions import col\n",
    "\n",
    "import os\n",
    "# Set environment variables (local paths)\n",
    "os.environ[\"JAVA_HOME\"] = \"D:/Programs/Java\"\n",
    "os.environ[\"HADOOP_HOME\"] = \"D:/Programs/hadoop\"\n",
    "os.environ[\"SPARK_HOME\"] = \"D:/Programs/spark/spark-3.5.6-bin-hadoop3\"  # Adjust if different\n",
    "\n",
    "import findspark\n",
    "findspark.init(\"D:/Programs/spark/spark-3.5.6-bin-hadoop3\")\n",
    "\n",
    "import time\n",
    "def timed(label, func):\n",
    "    start = time.time()\n",
    "    func()\n",
    "    end = time.time()\n",
    "    print(f\"{label:<30}: {(end - start):.2f} sec\")\n",
    "    return end - start"
   ]
  },
  {
   "cell_type": "code",
   "execution_count": 2,
   "id": "172bf3fc",
   "metadata": {},
   "outputs": [],
   "source": [
    "spark = (\n",
    "    SparkSession\n",
    "    .builder\n",
    "    .appName(\"Testing Caching\")\n",
    "    .config(\"spark.sql.adaptive.enabled\", \"true\") \n",
    "    .config(\"spark.sql.shuffle.partitions\", \"8\") \n",
    "    .config(\"spark.executor.memory\", \"4g\") \n",
    "    .config(\"spark.driver.memory\", \"4g\") \n",
    "    .master(\"local[*]\")\n",
    "    .getOrCreate()\n",
    ")\n",
    "sc = spark.sparkContext\n",
    "sc.setLogLevel(\"ERROR\")"
   ]
  },
  {
   "cell_type": "code",
   "execution_count": 3,
   "id": "46718a81",
   "metadata": {},
   "outputs": [],
   "source": [
    "transactions_file = \"../../data/transactions.parquet\"\n",
    "df = spark.read.parquet(transactions_file)"
   ]
  },
  {
   "cell_type": "code",
   "execution_count": 4,
   "id": "9335ca41",
   "metadata": {},
   "outputs": [],
   "source": [
    "# Basic Transformation\n",
    "df_transformed = df.withColumn(\"amt\", col(\"amt\").cast(DoubleType())) \\\n",
    "                   .select(\"cust_id\", \"expense_type\", \"amt\")"
   ]
  },
  {
   "cell_type": "code",
   "execution_count": null,
   "id": "a3e6f2ee",
   "metadata": {},
   "outputs": [
    {
     "name": "stdout",
     "output_type": "stream",
     "text": [
      "+-------------------+--------+\n",
      "|       expense_type|   count|\n",
      "+-------------------+--------+\n",
      "|       Motor/Travel| 4738090|\n",
      "|          Groceries| 6473528|\n",
      "|           Gambling|  958807|\n",
      "|              Fines|    7467|\n",
      "|Bills and Utilities| 1260478|\n",
      "|      Entertainment|22417986|\n",
      "|                Tax|  453669|\n",
      "|             Health| 1136161|\n",
      "|            Housing|  261668|\n",
      "|          Education|  559518|\n",
      "|            Savings|  357141|\n",
      "|           Clothing| 1165579|\n",
      "+-------------------+--------+\n",
      "\n",
      "+----------+------------------+\n",
      "|   cust_id|          avg(amt)|\n",
      "+----------+------------------+\n",
      "|CL3B876N0W| 55.22601100228109|\n",
      "|CZMEO3I7BR|144.56504063974802|\n",
      "|CB9X2QIFXC| 45.85590289720845|\n",
      "|CF050PCFFL|117.22504949222264|\n",
      "|CKVZS7W3MF| 68.98813863928103|\n",
      "|CPK9DPIB9Z|127.85602702702685|\n",
      "|CJUTITO23A|  55.4455711177591|\n",
      "|C8F59WIEY1|174.73890040927765|\n",
      "|CGAXKN70IJ| 88.56002359800117|\n",
      "|CYETYN7E1E| 47.87958594730247|\n",
      "|CQJ2ZRK7WW| 54.15641633064491|\n",
      "|CS92OJU3GX|112.21643863959632|\n",
      "|C51C18F19D|101.32226137001648|\n",
      "|C9E45ZH51F|124.67672309083869|\n",
      "|CUSSV0U0AH|  81.3627868013813|\n",
      "|CLWJGIQIWC|17.955539209415342|\n",
      "|CP4PJ16V3E|26.821017188301738|\n",
      "|CPTUJIH4G2| 48.94256324715049|\n",
      "|C7TCEY0JIT| 172.8288856041131|\n",
      "|CESZ27R0KF|139.43968988030358|\n",
      "+----------+------------------+\n",
      "only showing top 20 rows\n",
      "No Cache                      : 53.73 sec\n"
     ]
    }
   ],
   "source": [
    "def no_cache():\n",
    "    df_transformed.groupBy(\"expense_type\").count().show()\n",
    "    df_transformed.groupBy(\"cust_id\").avg(\"amt\").show()\n",
    "\n",
    "baseline_time = timed(\"No Cache\", no_cache)"
   ]
  },
  {
   "cell_type": "code",
   "execution_count": 5,
   "id": "a38ac93e",
   "metadata": {},
   "outputs": [
    {
     "name": "stdout",
     "output_type": "stream",
     "text": [
      "+-------------------+--------+\n",
      "|       expense_type|   count|\n",
      "+-------------------+--------+\n",
      "|       Motor/Travel| 4738090|\n",
      "|          Groceries| 6473528|\n",
      "|           Gambling|  958807|\n",
      "|              Fines|    7467|\n",
      "|Bills and Utilities| 1260478|\n",
      "|      Entertainment|22417986|\n",
      "|                Tax|  453669|\n",
      "|             Health| 1136161|\n",
      "|            Housing|  261668|\n",
      "|          Education|  559518|\n",
      "|            Savings|  357141|\n",
      "|           Clothing| 1165579|\n",
      "+-------------------+--------+\n",
      "\n",
      "+----------+------------------+\n",
      "|   cust_id|          avg(amt)|\n",
      "+----------+------------------+\n",
      "|CL3B876N0W| 55.22601100228109|\n",
      "|CZMEO3I7BR|144.56504063974802|\n",
      "|CB9X2QIFXC| 45.85590289720845|\n",
      "|CF050PCFFL|117.22504949222264|\n",
      "|CKVZS7W3MF| 68.98813863928103|\n",
      "|CPK9DPIB9Z|127.85602702702685|\n",
      "|CJUTITO23A|  55.4455711177591|\n",
      "|C8F59WIEY1|174.73890040927765|\n",
      "|CGAXKN70IJ| 88.56002359800117|\n",
      "|CYETYN7E1E| 47.87958594730247|\n",
      "|CQJ2ZRK7WW| 54.15641633064491|\n",
      "|CS92OJU3GX|112.21643863959632|\n",
      "|C51C18F19D|101.32226137001648|\n",
      "|C9E45ZH51F|124.67672309083869|\n",
      "|CUSSV0U0AH|  81.3627868013813|\n",
      "|CLWJGIQIWC|17.955539209415342|\n",
      "|CP4PJ16V3E|26.821017188301738|\n",
      "|CPTUJIH4G2| 48.94256324715049|\n",
      "|C7TCEY0JIT| 172.8288856041131|\n",
      "|CESZ27R0KF|139.43968988030358|\n",
      "+----------+------------------+\n",
      "only showing top 20 rows\n",
      "With Cache                    : 36.56 sec\n"
     ]
    },
    {
     "data": {
      "text/plain": [
       "DataFrame[cust_id: string, expense_type: string, amt: double]"
      ]
     },
     "execution_count": 5,
     "metadata": {},
     "output_type": "execute_result"
    }
   ],
   "source": [
    "df_transformed.cache()\n",
    "df_transformed.count()  # trigger caching\n",
    "\n",
    "def with_cache():\n",
    "    df_transformed.groupBy(\"expense_type\").count().show()\n",
    "    df_transformed.groupBy(\"cust_id\").avg(\"amt\").show()\n",
    "\n",
    "cache_time = timed(\"With Cache\", with_cache)\n",
    "df_transformed.unpersist()\n"
   ]
  },
  {
   "cell_type": "code",
   "execution_count": null,
   "id": "4b33c704",
   "metadata": {},
   "outputs": [
    {
     "name": "stdout",
     "output_type": "stream",
     "text": [
      "+-------------------+--------+\n",
      "|       expense_type|   count|\n",
      "+-------------------+--------+\n",
      "|       Motor/Travel| 4738090|\n",
      "|          Groceries| 6473528|\n",
      "|           Gambling|  958807|\n",
      "|              Fines|    7467|\n",
      "|Bills and Utilities| 1260478|\n",
      "|      Entertainment|22417986|\n",
      "|                Tax|  453669|\n",
      "|             Health| 1136161|\n",
      "|            Housing|  261668|\n",
      "|          Education|  559518|\n",
      "|            Savings|  357141|\n",
      "|           Clothing| 1165579|\n",
      "+-------------------+--------+\n",
      "\n",
      "+----------+------------------+\n",
      "|   cust_id|          avg(amt)|\n",
      "+----------+------------------+\n",
      "|CL3B876N0W| 55.22601100228109|\n",
      "|CZMEO3I7BR|144.56504063974802|\n",
      "|CB9X2QIFXC| 45.85590289720845|\n",
      "|CF050PCFFL|117.22504949222264|\n",
      "|CKVZS7W3MF| 68.98813863928103|\n",
      "|CPK9DPIB9Z|127.85602702702685|\n",
      "|CJUTITO23A|  55.4455711177591|\n",
      "|C8F59WIEY1|174.73890040927765|\n",
      "|CGAXKN70IJ| 88.56002359800117|\n",
      "|CYETYN7E1E| 47.87958594730247|\n",
      "|CQJ2ZRK7WW| 54.15641633064491|\n",
      "|CS92OJU3GX|112.21643863959632|\n",
      "|C51C18F19D|101.32226137001648|\n",
      "|C9E45ZH51F|124.67672309083869|\n",
      "|CUSSV0U0AH|  81.3627868013813|\n",
      "|CLWJGIQIWC|17.955539209415342|\n",
      "|CP4PJ16V3E|26.821017188301738|\n",
      "|CPTUJIH4G2| 48.94256324715049|\n",
      "|C7TCEY0JIT| 172.8288856041131|\n",
      "|CESZ27R0KF|139.43968988030358|\n",
      "+----------+------------------+\n",
      "only showing top 20 rows\n",
      "With Persist                  : 38.75 sec\n"
     ]
    },
    {
     "data": {
      "text/plain": [
       "DataFrame[cust_id: string, expense_type: string, amt: double]"
      ]
     },
     "execution_count": 6,
     "metadata": {},
     "output_type": "execute_result"
    }
   ],
   "source": [
    "df_transformed.persist(StorageLevel.MEMORY_AND_DISK)\n",
    "df_transformed.count()  # trigger persisting\n",
    "\n",
    "def with_persist():\n",
    "    df_transformed.groupBy(\"expense_type\").count().show()\n",
    "    df_transformed.groupBy(\"cust_id\").avg(\"amt\").show()\n",
    "\n",
    "persist_time = timed(\"With Persist\", with_persist)\n",
    "df_transformed.unpersist()"
   ]
  },
  {
   "cell_type": "code",
   "execution_count": null,
   "id": "20aec4b3",
   "metadata": {},
   "outputs": [
    {
     "name": "stdout",
     "output_type": "stream",
     "text": [
      "+-------------------+--------+\n",
      "|       expense_type|   count|\n",
      "+-------------------+--------+\n",
      "|       Motor/Travel| 4738090|\n",
      "|          Groceries| 6473528|\n",
      "|           Gambling|  958807|\n",
      "|              Fines|    7467|\n",
      "|Bills and Utilities| 1260478|\n",
      "|      Entertainment|22417986|\n",
      "|                Tax|  453669|\n",
      "|             Health| 1136161|\n",
      "|            Housing|  261668|\n",
      "|          Education|  559518|\n",
      "|            Savings|  357141|\n",
      "|           Clothing| 1165579|\n",
      "+-------------------+--------+\n",
      "\n",
      "+----------+------------------+\n",
      "|   cust_id|          avg(amt)|\n",
      "+----------+------------------+\n",
      "|CL3B876N0W|55.226011002280984|\n",
      "|CZMEO3I7BR|144.56504063974833|\n",
      "|CB9X2QIFXC| 45.85590289720868|\n",
      "|CF050PCFFL|117.22504949222257|\n",
      "|CKVZS7W3MF| 68.98813863928105|\n",
      "|CPK9DPIB9Z|127.85602702702701|\n",
      "|CJUTITO23A|55.445571117758966|\n",
      "|C8F59WIEY1|174.73890040927688|\n",
      "|CGAXKN70IJ| 88.56002359800121|\n",
      "|CYETYN7E1E| 47.87958594730238|\n",
      "|CQJ2ZRK7WW| 54.15641633064517|\n",
      "|CS92OJU3GX|112.21643863959659|\n",
      "|C51C18F19D|101.32226137001686|\n",
      "|C9E45ZH51F|124.67672309083875|\n",
      "|CUSSV0U0AH| 81.36278680138113|\n",
      "|CLWJGIQIWC|17.955539209415353|\n",
      "|CP4PJ16V3E|26.821017188301713|\n",
      "|CPTUJIH4G2| 48.94256324715047|\n",
      "|C7TCEY0JIT|172.82888560411325|\n",
      "|CESZ27R0KF|139.43968988030477|\n",
      "+----------+------------------+\n",
      "only showing top 20 rows\n",
      "Cache + Repartition           : 33.92 sec\n"
     ]
    },
    {
     "data": {
      "text/plain": [
       "DataFrame[cust_id: string, expense_type: string, amt: double]"
      ]
     },
     "execution_count": 7,
     "metadata": {},
     "output_type": "execute_result"
    }
   ],
   "source": [
    "df_repart = df_transformed.repartition(8, \"expense_type\").cache()\n",
    "df_repart.count()\n",
    "\n",
    "def cache_repartition():\n",
    "    df_repart.groupBy(\"expense_type\").count().show()\n",
    "    df_repart.groupBy(\"cust_id\").avg(\"amt\").show()\n",
    "\n",
    "repart_cache_time = timed(\"Cache + Repartition\", cache_repartition)\n",
    "df_repart.unpersist()"
   ]
  },
  {
   "cell_type": "code",
   "execution_count": null,
   "id": "5beced60",
   "metadata": {},
   "outputs": [
    {
     "name": "stdout",
     "output_type": "stream",
     "text": [
      "+-------------------+--------+\n",
      "|       expense_type|   count|\n",
      "+-------------------+--------+\n",
      "|       Motor/Travel| 4738090|\n",
      "|          Groceries| 6473528|\n",
      "|           Gambling|  958807|\n",
      "|              Fines|    7467|\n",
      "|Bills and Utilities| 1260478|\n",
      "|      Entertainment|22417986|\n",
      "|                Tax|  453669|\n",
      "|             Health| 1136161|\n",
      "|            Housing|  261668|\n",
      "|          Education|  559518|\n",
      "|            Savings|  357141|\n",
      "|           Clothing| 1165579|\n",
      "+-------------------+--------+\n",
      "\n",
      "+----------+------------------+\n",
      "|   cust_id|          avg(amt)|\n",
      "+----------+------------------+\n",
      "|CL3B876N0W| 55.22601100228109|\n",
      "|CZMEO3I7BR|144.56504063974802|\n",
      "|CB9X2QIFXC| 45.85590289720845|\n",
      "|CF050PCFFL|117.22504949222264|\n",
      "|CKVZS7W3MF| 68.98813863928103|\n",
      "|CPK9DPIB9Z|127.85602702702685|\n",
      "|CJUTITO23A|  55.4455711177591|\n",
      "|C8F59WIEY1|174.73890040927765|\n",
      "|CGAXKN70IJ| 88.56002359800117|\n",
      "|CYETYN7E1E| 47.87958594730247|\n",
      "|CQJ2ZRK7WW| 54.15641633064491|\n",
      "|CS92OJU3GX|112.21643863959632|\n",
      "|C51C18F19D|101.32226137001648|\n",
      "|C9E45ZH51F|124.67672309083869|\n",
      "|CUSSV0U0AH|  81.3627868013813|\n",
      "|CLWJGIQIWC|17.955539209415342|\n",
      "|CP4PJ16V3E|26.821017188301738|\n",
      "|CPTUJIH4G2| 48.94256324715049|\n",
      "|C7TCEY0JIT| 172.8288856041131|\n",
      "|CESZ27R0KF|139.43968988030358|\n",
      "+----------+------------------+\n",
      "only showing top 20 rows\n",
      "AQE + Cache                   : 30.83 sec\n"
     ]
    },
    {
     "data": {
      "text/plain": [
       "DataFrame[cust_id: string, expense_type: string, amt: double]"
      ]
     },
     "execution_count": 8,
     "metadata": {},
     "output_type": "execute_result"
    }
   ],
   "source": [
    "spark.conf.set(\"spark.sql.adaptive.enabled\", \"true\")\n",
    "\n",
    "df_aqe = df_transformed.cache()\n",
    "df_aqe.count()\n",
    "\n",
    "def aqe_cache():\n",
    "    df_aqe.groupBy(\"expense_type\").count().show()\n",
    "    df_aqe.groupBy(\"cust_id\").avg(\"amt\").show()\n",
    "\n",
    "aqe_cache_time = timed(\"AQE + Cache\", aqe_cache)\n",
    "df_aqe.unpersist()"
   ]
  },
  {
   "cell_type": "code",
   "execution_count": null,
   "id": "82402ffd",
   "metadata": {},
   "outputs": [
    {
     "name": "stdout",
     "output_type": "stream",
     "text": [
      "\n",
      "=== Summary ===\n",
      "Strategy                       | Time (sec)\n",
      "---------------------------------------------\n",
      "No Cache                       | 53.73\n",
      "With Cache                     | 36.56\n",
      "With Persist                   | 38.75\n",
      "Cache + Repartition            | 33.92\n",
      "AQE + Cache                    | 30.83\n"
     ]
    }
   ],
   "source": [
    "print(\"\\n=== Summary ===\")\n",
    "print(f\"{'Strategy':<30} | {'Time (sec)'}\")\n",
    "print(\"-\" * 45)\n",
    "print(f\"{'No Cache':<30} | {baseline_time:.2f}\")\n",
    "print(f\"{'With Cache':<30} | {cache_time:.2f}\")\n",
    "print(f\"{'With Persist':<30} | {persist_time:.2f}\")\n",
    "print(f\"{'Cache + Repartition':<30} | {repart_cache_time:.2f}\")\n",
    "print(f\"{'AQE + Cache':<30} | {aqe_cache_time:.2f}\")"
   ]
  },
  {
   "cell_type": "code",
   "execution_count": 5,
   "id": "0641e524",
   "metadata": {},
   "outputs": [],
   "source": [
    "spark.stop()"
   ]
  }
 ],
 "metadata": {
  "kernelspec": {
   "display_name": "venv",
   "language": "python",
   "name": "python3"
  },
  "language_info": {
   "codemirror_mode": {
    "name": "ipython",
    "version": 3
   },
   "file_extension": ".py",
   "mimetype": "text/x-python",
   "name": "python",
   "nbconvert_exporter": "python",
   "pygments_lexer": "ipython3",
   "version": "3.11.9"
  }
 },
 "nbformat": 4,
 "nbformat_minor": 5
}
