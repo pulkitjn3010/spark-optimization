{
 "cells": [
  {
   "cell_type": "code",
   "execution_count": 1,
   "id": "5a71321b",
   "metadata": {},
   "outputs": [],
   "source": [
    "from pyspark.sql import SparkSession\n",
    "from pyspark.sql.types import *\n",
    "import pyspark.sql.functions as F\n",
    "import warnings\n",
    "warnings.filterwarnings(\"ignore\")\n",
    "\n",
    "from IPython.core.interactiveshell import InteractiveShell\n",
    "InteractiveShell.ast_node_interactivity = 'all'\n",
    "\n",
    "import time\n",
    "\n",
    "import os\n",
    "# Set environment variables (local paths)\n",
    "os.environ[\"JAVA_HOME\"] = \"D:/Programs/Java\"\n",
    "os.environ[\"HADOOP_HOME\"] = \"D:/Programs/hadoop\"\n",
    "os.environ[\"SPARK_HOME\"] = \"D:/Programs/spark/spark-3.5.6-bin-hadoop3\"  # Adjust if different\n",
    "\n",
    "import findspark\n",
    "# Initialize findspark\n",
    "findspark.init(\"D:/Programs/spark/spark-3.5.6-bin-hadoop3\")"
   ]
  },
  {
   "cell_type": "code",
   "execution_count": 2,
   "id": "e0c2e748",
   "metadata": {},
   "outputs": [],
   "source": [
    "# Using default Java Serializer\n",
    "\n",
    "spark = SparkSession.builder \\\n",
    "    .appName(\"Optimizations\") \\\n",
    "    .master(\"local[*]\") \\\n",
    "    .getOrCreate()"
   ]
  },
  {
   "cell_type": "code",
   "execution_count": 3,
   "id": "923de3ec",
   "metadata": {},
   "outputs": [],
   "source": [
    "# Using Kryo Serializer\n",
    "\n",
    "spark = (\n",
    "    SparkSession.builder\n",
    "    .appName(\"SerializationTest\")\n",
    "    .config(\"spark.serializer\", \"org.apache.spark.serializer.KryoSerializer\")\n",
    "    .getOrCreate()\n",
    ")\n",
    "\n",
    "# Setting up serialization is a static configuration\n",
    "# Which means it can only be set at the time of creation of spark session\n",
    "# If we try to alter the configuration after the creation of spark session dynamically\n",
    "# Error!!\n",
    "# spark.conf.set(\"spark.serializer\", \"org.apache.spark.serializer.JavaSerializer\")"
   ]
  },
  {
   "cell_type": "code",
   "execution_count": 4,
   "id": "29e4eba5",
   "metadata": {},
   "outputs": [
    {
     "name": "stdout",
     "output_type": "stream",
     "text": [
      "Serializer in use: None\n"
     ]
    },
    {
     "data": {
      "text/html": [
       "\n",
       "            <div>\n",
       "                <p><b>SparkSession - in-memory</b></p>\n",
       "                \n",
       "        <div>\n",
       "            <p><b>SparkContext</b></p>\n",
       "\n",
       "            <p><a href=\"http://host.docker.internal:4041\">Spark UI</a></p>\n",
       "\n",
       "            <dl>\n",
       "              <dt>Version</dt>\n",
       "                <dd><code>v3.5.6</code></dd>\n",
       "              <dt>Master</dt>\n",
       "                <dd><code>local[*]</code></dd>\n",
       "              <dt>AppName</dt>\n",
       "                <dd><code>Optimizations</code></dd>\n",
       "            </dl>\n",
       "        </div>\n",
       "        \n",
       "            </div>\n",
       "        "
      ],
      "text/plain": [
       "<pyspark.sql.session.SparkSession at 0x2a1b95ad710>"
      ]
     },
     "execution_count": 4,
     "metadata": {},
     "output_type": "execute_result"
    }
   ],
   "source": [
    "spark.sparkContext.setLogLevel(\"ERROR\")\n",
    "# spark.conf.get(\"spark.serializer\") # throws error\n",
    "# spark.sparkContext.getConf().get(\"spark.serializer\") # this works\n",
    "print(\"Serializer in use:\", spark.sparkContext.getConf().get(\"spark.serializer\"))\n",
    "# Serializer in use: org.apache.spark.serializer.JavaSerializer (for java or can be None)\n",
    "# Serializer in use: org.apache.spark.serializer.KryoSerializer (for kryo)\n",
    "# For java you also might have to write\n",
    "# spark.sparkContext.getConf().get(\"spark.serializer\", \"org.apache.spark.serializer.JavaSerializer\"))\n",
    "\n",
    "spark"
   ]
  },
  {
   "cell_type": "code",
   "execution_count": 5,
   "id": "748324b0",
   "metadata": {},
   "outputs": [
    {
     "name": "stdout",
     "output_type": "stream",
     "text": [
      "Current Serializer: org.apache.spark.serializer.JavaSerializer\n"
     ]
    }
   ],
   "source": [
    "print(\"Current Serializer:\", spark.sparkContext.getConf().get(\"spark.serializer\", \"org.apache.spark.serializer.JavaSerializer\"))"
   ]
  },
  {
   "cell_type": "code",
   "execution_count": null,
   "id": "a0802374",
   "metadata": {},
   "outputs": [
    {
     "data": {
      "text/plain": [
       "[Row(city='san_diego', avg_amt=112.48630473111164),\n",
       " Row(city='chicago', avg_amt=112.45431524573912),\n",
       " Row(city='denver', avg_amt=112.45875942713126),\n",
       " Row(city='boston', avg_amt=112.64896775840012),\n",
       " Row(city='seattle', avg_amt=112.5738240796807),\n",
       " Row(city='los_angeles', avg_amt=112.65125815635012),\n",
       " Row(city='new_york', avg_amt=112.50231368218985),\n",
       " Row(city='san_francisco', avg_amt=112.67575526699807),\n",
       " Row(city='philadelphia', avg_amt=112.68416006667248),\n",
       " Row(city='portland', avg_amt=112.81980096459505)]"
      ]
     },
     "execution_count": 6,
     "metadata": {},
     "output_type": "execute_result"
    },
    {
     "name": "stdout",
     "output_type": "stream",
     "text": [
      "Execution time with JavaSerializer: 14.865233659744263\n"
     ]
    }
   ],
   "source": [
    "# Java Serialization\n",
    "\n",
    "import pyspark.sql.functions as F\n",
    "import time\n",
    "\n",
    "start = time.time()\n",
    "\n",
    "transactions_file = \"../../data/transactions.parquet\"\n",
    "df_transactions = spark.read.parquet(transactions_file)\n",
    "\n",
    "df_transformed = (\n",
    "    df_transactions\n",
    "    .filter(F.col(\"amt\") > 10)\n",
    "    .groupBy(\"city\")\n",
    "    .agg(F.avg(\"amt\").alias(\"avg_amt\"))\n",
    ")\n",
    "\n",
    "df_transformed.collect()  # trigger full computation\n",
    "\n",
    "end = time.time()\n",
    "print(\"Execution time with JavaSerializer:\", end - start)\n",
    "\n",
    "# Execution time with JavaSerializer: 14.865233659744263\n"
   ]
  },
  {
   "cell_type": "code",
   "execution_count": null,
   "id": "91c77dc1",
   "metadata": {},
   "outputs": [
    {
     "data": {
      "text/plain": [
       "[Row(city='san_diego', avg_amt=112.48630473111164),\n",
       " Row(city='chicago', avg_amt=112.45431524573912),\n",
       " Row(city='denver', avg_amt=112.45875942713126),\n",
       " Row(city='boston', avg_amt=112.64896775840012),\n",
       " Row(city='seattle', avg_amt=112.5738240796807),\n",
       " Row(city='los_angeles', avg_amt=112.65125815635012),\n",
       " Row(city='new_york', avg_amt=112.50231368218985),\n",
       " Row(city='san_francisco', avg_amt=112.67575526699807),\n",
       " Row(city='philadelphia', avg_amt=112.68416006667248),\n",
       " Row(city='portland', avg_amt=112.81980096459505)]"
      ]
     },
     "execution_count": 7,
     "metadata": {},
     "output_type": "execute_result"
    },
    {
     "name": "stdout",
     "output_type": "stream",
     "text": [
      "Execution time with KryoSerializer: 6.044540643692017\n"
     ]
    }
   ],
   "source": [
    "# Kryo Serialization\n",
    "\n",
    "import pyspark.sql.functions as F\n",
    "import time\n",
    "\n",
    "start = time.time()\n",
    "\n",
    "transactions_file = \"../../data/transactions.parquet\"\n",
    "df_transactions = spark.read.parquet(transactions_file)\n",
    "\n",
    "df_transformed = (\n",
    "    df_transactions\n",
    "    .filter(F.col(\"amt\") > 10)\n",
    "    .groupBy(\"city\")\n",
    "    .agg(F.avg(\"amt\").alias(\"avg_amt\"))\n",
    ")\n",
    "\n",
    "df_transformed.collect()  # trigger full computation\n",
    "\n",
    "end = time.time()\n",
    "print(\"Execution time with KryoSerializer:\", end - start)\n",
    "\n",
    "# Execution time with KryoSerializer: 6.044540643692017"
   ]
  }
 ],
 "metadata": {
  "kernelspec": {
   "display_name": "venv",
   "language": "python",
   "name": "python3"
  },
  "language_info": {
   "codemirror_mode": {
    "name": "ipython",
    "version": 3
   },
   "file_extension": ".py",
   "mimetype": "text/x-python",
   "name": "python",
   "nbconvert_exporter": "python",
   "pygments_lexer": "ipython3",
   "version": "3.11.9"
  }
 },
 "nbformat": 4,
 "nbformat_minor": 5
}
