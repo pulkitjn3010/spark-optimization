{
 "cells": [
  {
   "cell_type": "code",
   "execution_count": null,
   "id": "b742ce1b",
   "metadata": {},
   "outputs": [],
   "source": [
    "import warnings\n",
    "warnings.filterwarnings(\"ignore\")\n",
    "\n",
    "from IPython.core.interactiveshell import InteractiveShell\n",
    "InteractiveShell.ast_node_interactivity = 'all'\n",
    "\n",
    "from pyspark.sql.types import *\n",
    "import pyspark.sql.functions as F\n",
    "from pyspark.sql import SparkSession\n",
    "\n",
    "import os\n",
    "# Set environment variables (local paths)\n",
    "os.environ[\"JAVA_HOME\"] = \"D:/Programs/Java\"\n",
    "os.environ[\"HADOOP_HOME\"] = \"D:/Programs/hadoop\"\n",
    "os.environ[\"SPARK_HOME\"] = \"D:/Programs/spark/spark-3.5.6-bin-hadoop3\"  # Adjust if different\n",
    "\n",
    "import findspark\n",
    "findspark.init(\"D:/Programs/spark/spark-3.5.6-bin-hadoop3\")"
   ]
  },
  {
   "cell_type": "code",
   "execution_count": 2,
   "id": "d212596d",
   "metadata": {},
   "outputs": [
    {
     "data": {
      "text/html": [
       "\n",
       "            <div>\n",
       "                <p><b>SparkSession - in-memory</b></p>\n",
       "                \n",
       "        <div>\n",
       "            <p><b>SparkContext</b></p>\n",
       "\n",
       "            <p><a href=\"http://host.docker.internal:4040\">Spark UI</a></p>\n",
       "\n",
       "            <dl>\n",
       "              <dt>Version</dt>\n",
       "                <dd><code>v3.5.6</code></dd>\n",
       "              <dt>Master</dt>\n",
       "                <dd><code>local[*]</code></dd>\n",
       "              <dt>AppName</dt>\n",
       "                <dd><code>Testing Partitioning</code></dd>\n",
       "            </dl>\n",
       "        </div>\n",
       "        \n",
       "            </div>\n",
       "        "
      ],
      "text/plain": [
       "<pyspark.sql.session.SparkSession at 0x1d85d46ee10>"
      ]
     },
     "execution_count": 2,
     "metadata": {},
     "output_type": "execute_result"
    }
   ],
   "source": [
    "spark = (\n",
    "    SparkSession\n",
    "    .builder\n",
    "    .appName(\"Testing Partitioning\")\n",
    "    .config(\"spark.sql.adaptive.enabled\", \"false\") \n",
    "    .master(\"local[*]\")\n",
    "    .getOrCreate()\n",
    ")\n",
    "sc = spark.sparkContext\n",
    "sc.setLogLevel(\"ERROR\")\n",
    "spark"
   ]
  },
  {
   "cell_type": "code",
   "execution_count": 3,
   "id": "7c7501a7",
   "metadata": {},
   "outputs": [],
   "source": [
    "transactions_file = \"../../data/transactions.parquet\""
   ]
  },
  {
   "cell_type": "code",
   "execution_count": 4,
   "id": "38782ea4",
   "metadata": {},
   "outputs": [
    {
     "name": "stdout",
     "output_type": "stream",
     "text": [
      "Initial partitions: 12\n"
     ]
    }
   ],
   "source": [
    "# baseline transformation without repartitioning\n",
    "df_transactions = spark.read.parquet(transactions_file)\n",
    "print(\"Initial partitions:\", df_transactions.rdd.getNumPartitions())\n",
    "df_transformed = (\n",
    "\tdf_transactions\n",
    "\t.filter(F.col(\"amt\") > 10) \n",
    "\t.groupBy(\"city\")                    \n",
    "\t.agg(F.avg(\"amt\").alias(\"avg_amt\")) \n",
    ")\t\n",
    "df_transformed.write.mode(\"overwrite\").csv(\"../../output/baseline\")"
   ]
  },
  {
   "cell_type": "markdown",
   "id": "bb21f15c",
   "metadata": {},
   "source": [
    "#### **Job Baseline**\n",
    "\n",
    "- **Number of partitions** (`df_transactions.rdd.getNumPartitions()`): **12**  \n",
    "- **Total execution time**: **42s**  \n",
    "- **Shuffle Read**: **0.005 MB**  \n",
    "- **Shuffle Write**: **0.009 MB**  \n",
    "- **Output file count** (`output/baseline/`): **10**  \n",
    "- **Size of output files**: **294.0 B**  \n",
    "- **Exchanges**: **1 (only one exchange)**  \n"
   ]
  },
  {
   "cell_type": "code",
   "execution_count": 6,
   "id": "f232c974",
   "metadata": {},
   "outputs": [],
   "source": [
    "# transformation with repartitioning to 4 partitions\n",
    "df_transactions = spark.read.parquet(transactions_file).repartition(4)\n",
    "df_transformed = (\n",
    "    df_transactions\n",
    "    .withColumn(\"amt\", F.col(\"amt\").cast(DoubleType()))\n",
    "    .filter(F.col(\"amt\") > 10)\n",
    "    .groupBy(\"city\")\n",
    "    .agg(F.avg(\"amt\").alias(\"avg_amt\"))\n",
    ")\n",
    "df_transformed.write.mode(\"overwrite\").csv(f\"../../output/repartition_4\")"
   ]
  },
  {
   "cell_type": "markdown",
   "id": "ebdd7a08",
   "metadata": {},
   "source": [
    "#### **job_repartition_4**\n",
    "\n",
    "- **Number of partitions**: **4**  \n",
    "- **Total execution time**: **57s**  \n",
    "\n",
    "**First Exchange (main shuffle for groupBy):**  \n",
    "- **Shuffle Read**: **1.2 GB**  \n",
    "- **Shuffle Write**: **186.0 MiB**  \n",
    "\n",
    "**Second Exchange (write to disk):**  \n",
    "- **Shuffle Read**: **3.2 KiB**  \n",
    "- **Shuffle Write**: **3.2 KiB**  \n",
    "\n",
    "- **Output file count** (`output/baseline/`): **10**  \n",
    "- **Size of output files**: **295.0 B**  \n"
   ]
  },
  {
   "cell_type": "code",
   "execution_count": 5,
   "id": "93e8a417",
   "metadata": {},
   "outputs": [],
   "source": [
    "# transformation with repartitioning to 8 partitions\n",
    "df_transactions = spark.read.parquet(transactions_file).repartition(8)\n",
    "df_transformed = (\n",
    "    df_transactions\n",
    "    .withColumn(\"amt\", F.col(\"amt\").cast(DoubleType()))\n",
    "    .filter(F.col(\"amt\") > 10)\n",
    "    .groupBy(\"city\")\n",
    "    .agg(F.avg(\"amt\").alias(\"avg_amt\"))\n",
    ")\n",
    "df_transformed.write.mode(\"overwrite\").csv(f\"../../output/repartition_8\")"
   ]
  },
  {
   "cell_type": "markdown",
   "id": "9dc3b026",
   "metadata": {},
   "source": [
    "#### **job_repartition_8**\n",
    "\n",
    "- **Number of partitions**: **8**  \n",
    "- **Total execution time**: **1.1 min**  \n",
    "\n",
    "**First Exchange (main shuffle for groupBy):**  \n",
    "- **Shuffle Read**: **1.2 GB**  \n",
    "- **Shuffle Write**: **246.4 MiB**  \n",
    "\n",
    "**Second Exchange (write to disk):**  \n",
    "- **Shuffle Read**: **6.3 KiB**  \n",
    "- **Shuffle Write**: **3.4 KiB**  \n",
    "\n",
    "- **Output file count** (`output/baseline/`): **10**  \n",
    "- **Size of output files**: **295.0 B**  \n"
   ]
  },
  {
   "cell_type": "code",
   "execution_count": 7,
   "id": "eecf1f13",
   "metadata": {},
   "outputs": [],
   "source": [
    "# transformation with coalesce to 2 partitions\n",
    "df_transactions = spark.read.parquet(transactions_file) \n",
    "df_transformed = (\n",
    "    df_transactions\n",
    "    .withColumn(\"amt\", F.col(\"amt\").cast(DoubleType()))\n",
    "    .filter(F.col(\"amt\") > 10)\n",
    "    .groupBy(\"city\")\n",
    "    .agg(F.avg(\"amt\").alias(\"avg_amt\"))\n",
    ")    \n",
    "df_transformed.coalesce(2).write.mode(\"overwrite\").csv(\"../../output/coalesce_2\")"
   ]
  },
  {
   "cell_type": "markdown",
   "id": "352d1695",
   "metadata": {},
   "source": [
    "#### **job_coalesce_2**\n",
    "\n",
    "- **Number of partitions**: **2** (after exchange then coalesce)  \n",
    "- **Total execution time**: **23s**  \n",
    "- **Shuffle Read**: **~5.1 KB**  \n",
    "- **Shuffle Write**: **~9.5 KB**  \n",
    "\n",
    "- **Output file count** (`output/baseline/`): **2 files**  \n",
    "- **Size of output files**: **294.0 B**  \n"
   ]
  },
  {
   "cell_type": "code",
   "execution_count": 8,
   "id": "fe5d69d9",
   "metadata": {},
   "outputs": [],
   "source": [
    "# transformation with repartition to 2 partitions\n",
    "df_transactions = spark.read.parquet(transactions_file)\n",
    "df_transformed = (\n",
    "    df_transactions\n",
    "    .withColumn(\"amt\", F.col(\"amt\").cast(DoubleType()))\n",
    "    .filter(F.col(\"amt\") > 10)\n",
    "    .groupBy(\"city\")\n",
    "    .agg(F.avg(\"amt\").alias(\"avg_amt\"))\n",
    ")\n",
    "df_transformed.repartition(2).write.mode(\"overwrite\").csv(\"../../output/repartition_2\")"
   ]
  },
  {
   "cell_type": "markdown",
   "id": "a8b6a747",
   "metadata": {},
   "source": [
    "#### **job_repartition_2**\n",
    "\n",
    "- **Number of partitions**: **2**  \n",
    "- **Total execution time**: **1.1 min**  \n",
    "\n",
    "**First Exchange (main shuffle for groupBy):**  \n",
    "- **Shuffle Read**: **0.005 MB**  \n",
    "- **Shuffle Write**: **0.009 MB**  \n",
    "\n",
    "**Second Exchange (write to disk):**  \n",
    "- **Shuffle Read**: **0.00075 MB**  \n",
    "- **Shuffle Write**: **0.00075 MB**  \n",
    "\n",
    "- **Output file count** (`output/baseline/`): **2**  \n",
    "- **Size of output files**: **294.0 B**  \n"
   ]
  },
  {
   "cell_type": "code",
   "execution_count": 9,
   "id": "a6281805",
   "metadata": {},
   "outputs": [],
   "source": [
    "spark.stop()"
   ]
  },
  {
   "cell_type": "markdown",
   "id": "12bb69d9",
   "metadata": {},
   "source": [
    "| Job Name | Partitions | Exec Time | Shuffle Read | Shuffle Write | Output Files | Output Size | Notes |\n",
    "| --- | --- | --- | --- | --- | --- | --- | --- |\n",
    "| **Baseline** | 12 | 42s | 0.005 MB | 0.009 MB | 10 | 294.0 B | Only 1 shuffle |\n",
    "| **Repartition to 4** | 4 | 57s | 1.2 GB | 186.0 MiB | 10 | 295.0 B | 2 shuffles |\n",
    "| **Repartition to 8** | 8 | 1.1 min | 1.2 GB | 246.4 MiB | 10 | 295.0 B | 2 shuffles |\n",
    "| **Coalesce to 2** | 2 (after shuffle) | 23s | 0.005 MB | 0.009 MB | 2 | 294.0 B | Minimal shuffle |\n",
    "| **Repartition to 2** | 2 | 1.1 min | 0.005 MB | 0.009 MB | 2 | 294.0 B | 2 shuffles |"
   ]
  },
  {
   "cell_type": "markdown",
   "id": "3ab7dd67",
   "metadata": {},
   "source": [
    "| 🔍 Question | ✅ Inference |\n",
    "| --- | --- |\n",
    "| **Does repartition increase shuffle?** | ✔️ Yes. Repartitioning to 4 or 8 led to **1.2 GB shuffle read**, whereas baseline had only **5 KB**. Repartition triggers **full shuffle**. |\n",
    "| **Is 8 partitions better than 4?** | ❌ Not clearly. **8 partitions** gave **slightly higher shuffle write (246 MB)** and **longer execution (1.1 min)** than **4 partitions (57s)**. |\n",
    "| **Is `coalesce` cheaper than `repartition` (for same output)?** | ✔️ Yes. **Coalesce to 2** took only **23s with tiny shuffle**, while **Repartition to 2** took **1.1 min with shuffle**. |\n",
    "| **Are more partitions always better?** | ❌ No. **Baseline (12 partitions)** was **faster than repartition(8)**. Partition tuning must balance **parallelism** and **shuffle overhead**. |"
   ]
  },
  {
   "cell_type": "markdown",
   "id": "e5eda130",
   "metadata": {},
   "source": [
    "### Recommendations\n",
    "\n",
    "#### Best Practices\n",
    "- For **writing**, prefer `coalesce(n)` to reduce output file count efficiently without expensive shuffle\n",
    "- Avoid unnecessary `repartition(n)` unless you need even data distribution before a wide transformation (e.g., `groupBy`)\n",
    "- Use `repartition()` only when correcting data skew or when you need even distribution before expensive operations\n",
    "\n",
    "#### When to Use This Optimization\n",
    "- **Coalesce**: When reducing output files for writing operations\n",
    "- **Repartition**: When you need even data distribution before wide transformations\n",
    "- **No change**: When current partitioning is already optimal\n",
    "\n",
    "#### Common Pitfalls to Avoid\n",
    "- **Over-partitioning**: Too many partitions can increase overhead\n",
    "- **Under-partitioning**: Too few partitions can cause memory pressure\n",
    "- **Unnecessary repartitioning**: Only repartition when you have a specific need"
   ]
  }
 ],
 "metadata": {
  "kernelspec": {
   "display_name": "venv",
   "language": "python",
   "name": "python3"
  },
  "language_info": {
   "codemirror_mode": {
    "name": "ipython",
    "version": 3
   },
   "file_extension": ".py",
   "mimetype": "text/x-python",
   "name": "python",
   "nbconvert_exporter": "python",
   "pygments_lexer": "ipython3",
   "version": "3.11.9"
  }
 },
 "nbformat": 4,
 "nbformat_minor": 5
}
