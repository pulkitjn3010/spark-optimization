{
 "cells": [
  {
   "cell_type": "code",
   "execution_count": 2,
   "id": "46bb9b1da6ab615e",
   "metadata": {
    "ExecuteTime": {
     "end_time": "2025-09-30T14:53:17.656435Z",
     "start_time": "2025-09-30T14:53:17.648652Z"
    }
   },
   "outputs": [],
   "source": [
    "from IPython.core.interactiveshell import InteractiveShell\n",
    "InteractiveShell.ast_node_interactivity = 'all'\n",
    "\n",
    "import warnings\n",
    "warnings.filterwarnings('ignore')\n",
    "warnings.simplefilter('ignore')\n",
    "import time"
   ]
  },
  {
   "cell_type": "code",
   "execution_count": 3,
   "id": "initial_id",
   "metadata": {
    "ExecuteTime": {
     "end_time": "2025-09-30T14:53:18.988887Z",
     "start_time": "2025-09-30T14:53:18.982395Z"
    },
    "collapsed": true
   },
   "outputs": [],
   "source": [
    "import os\n",
    "os.environ[\"PYSPARK_PYTHON\"] = \"python\"\n",
    "os.environ[\"PYSPARK_DRIVER_PYTHON\"] = \"python\""
   ]
  },
  {
   "cell_type": "code",
   "execution_count": 4,
   "id": "794f1ea7229ba58c",
   "metadata": {
    "ExecuteTime": {
     "end_time": "2025-09-30T14:53:20.998672Z",
     "start_time": "2025-09-30T14:53:20.076Z"
    }
   },
   "outputs": [],
   "source": [
    "from pyspark.sql.types import IntegerType\n",
    "import pyspark.sql.functions as F\n",
    "from pyspark.sql import SparkSession"
   ]
  },
  {
   "cell_type": "code",
   "execution_count": 5,
   "id": "7bfc4b7c8a5f2035",
   "metadata": {
    "ExecuteTime": {
     "end_time": "2025-09-30T14:53:31.252640Z",
     "start_time": "2025-09-30T14:53:21.843773Z"
    }
   },
   "outputs": [],
   "source": [
    "#locally use 4 cores with 1 driver pod only\n",
    "\n",
    "spark = SparkSession.builder.master(\"local[4]\").getOrCreate()\n",
    "sc = spark.sparkContext\n",
    "sc.setLogLevel(\"ERROR\")"
   ]
  },
  {
   "cell_type": "code",
   "execution_count": 8,
   "id": "1c788ae7050dcc17",
   "metadata": {
    "ExecuteTime": {
     "end_time": "2025-09-30T14:55:46.154753Z",
     "start_time": "2025-09-30T14:55:45.851486Z"
    }
   },
   "outputs": [],
   "source": [
    "spark.stop()"
   ]
  },
  {
   "cell_type": "code",
   "execution_count": 9,
   "id": "a301b7aadbb2d79d",
   "metadata": {
    "ExecuteTime": {
     "end_time": "2025-09-30T14:55:55.660211Z",
     "start_time": "2025-09-30T14:55:55.304350Z"
    }
   },
   "outputs": [],
   "source": [
    "#use driver and worker pods\n",
    "\n",
    "spark = (\n",
    "    SparkSession\n",
    "    .builder\n",
    "    .appName(\"Testing Salting\")\n",
    "    .master(\"spark://192.168.1.15:7077\")        #ip address of master\n",
    "    .config(\"spark.hadoop.hadoop.native.io\", \"false\")\n",
    "    .getOrCreate()\n",
    ")"
   ]
  },
  {
   "cell_type": "code",
   "execution_count": 10,
   "id": "d1046b662f741a5a",
   "metadata": {
    "ExecuteTime": {
     "end_time": "2025-09-30T14:56:49.271893Z",
     "start_time": "2025-09-30T14:56:49.253320Z"
    }
   },
   "outputs": [],
   "source": [
    "# spark.conf.set(\"spark.sql.shuffle.partitions\", \"3\")\n",
    "spark.conf.set(\"spark.sql.adaptive.enabled\", \"false\")"
   ]
  },
  {
   "cell_type": "markdown",
   "id": "c19542aa3c990af",
   "metadata": {},
   "source": [
    "# Join Skews"
   ]
  },
  {
   "cell_type": "code",
   "execution_count": null,
   "id": "5b0a28043dfaefd7",
   "metadata": {
    "ExecuteTime": {
     "end_time": "2025-09-30T14:56:55.314304Z",
     "start_time": "2025-09-30T14:56:53.322918Z"
    }
   },
   "outputs": [],
   "source": [
    "transactions_file = \"../../data/transactions.parquet\"\n",
    "customers_file = \"../../data/customers.parquet\"\n",
    "\n",
    "df_transactions = spark.read.parquet(transactions_file)\n",
    "df_customers = spark.read.parquet(customers_file)"
   ]
  },
  {
   "cell_type": "code",
   "execution_count": 12,
   "id": "19feecb7ff3ab361",
   "metadata": {
    "ExecuteTime": {
     "end_time": "2025-09-30T14:56:56.545892Z",
     "start_time": "2025-09-30T14:56:56.534529Z"
    }
   },
   "outputs": [
    {
     "name": "stdout",
     "output_type": "stream",
     "text": [
      "root\n",
      " |-- cust_id: string (nullable = true)\n",
      " |-- start_date: string (nullable = true)\n",
      " |-- end_date: string (nullable = true)\n",
      " |-- txn_id: string (nullable = true)\n",
      " |-- date: string (nullable = true)\n",
      " |-- year: string (nullable = true)\n",
      " |-- month: string (nullable = true)\n",
      " |-- day: string (nullable = true)\n",
      " |-- expense_type: string (nullable = true)\n",
      " |-- amt: string (nullable = true)\n",
      " |-- city: string (nullable = true)\n",
      "\n",
      "root\n",
      " |-- cust_id: string (nullable = true)\n",
      " |-- name: string (nullable = true)\n",
      " |-- age: string (nullable = true)\n",
      " |-- gender: string (nullable = true)\n",
      " |-- birthday: string (nullable = true)\n",
      " |-- zip: string (nullable = true)\n",
      " |-- city: string (nullable = true)\n",
      "\n"
     ]
    }
   ],
   "source": [
    "df_transactions.printSchema()\n",
    "#df_transactions.show(5, False)\n",
    "\n",
    "df_customers.printSchema()\n",
    "#df_customers.show(5, False)"
   ]
  },
  {
   "cell_type": "code",
   "execution_count": 13,
   "id": "ffecbe59477eba39",
   "metadata": {
    "ExecuteTime": {
     "end_time": "2025-09-30T14:59:19.682197Z",
     "start_time": "2025-09-30T14:57:34.008937Z"
    }
   },
   "outputs": [
    {
     "name": "stdout",
     "output_type": "stream",
     "text": [
      "+----------+--------+\n",
      "|cust_id   |ct      |\n",
      "+----------+--------+\n",
      "|C0YDPQWPBJ|17539732|\n",
      "|C89FCEGPJP|7999    |\n",
      "|CBW3FMEAU7|7999    |\n",
      "|C3KUDEN3KO|7999    |\n",
      "|CHNFNR89ZV|7998    |\n",
      "+----------+--------+\n",
      "only showing top 5 rows\n"
     ]
    }
   ],
   "source": [
    "(\n",
    "    df_transactions\n",
    "    .groupBy(\"cust_id\")\n",
    "    .agg(F.countDistinct(\"txn_id\").alias(\"ct\"))\n",
    "    .orderBy(F.desc(\"ct\"))\n",
    "    .show(5, False)\n",
    ")"
   ]
  },
  {
   "cell_type": "code",
   "execution_count": 14,
   "id": "df2e86a52231453a",
   "metadata": {
    "ExecuteTime": {
     "end_time": "2025-09-30T14:59:19.830971Z",
     "start_time": "2025-09-30T14:59:19.824470Z"
    }
   },
   "outputs": [],
   "source": [
    "spark.conf.set(\"spark.sql.autoBroadcastJoinThreshold\", -1)  #disable broadcast join"
   ]
  },
  {
   "cell_type": "code",
   "execution_count": 15,
   "id": "fbb34ce70dfbdd03",
   "metadata": {
    "ExecuteTime": {
     "end_time": "2025-09-30T15:00:47.314270Z",
     "start_time": "2025-09-30T15:00:47.272496Z"
    }
   },
   "outputs": [],
   "source": [
    "df_txn_details = (\n",
    "    df_transactions.join(\n",
    "        df_customers,\n",
    "        on=\"cust_id\",\n",
    "        how=\"inner\"\n",
    "    )\n",
    ")"
   ]
  },
  {
   "cell_type": "code",
   "execution_count": 16,
   "id": "af81436bd5b396bc",
   "metadata": {
    "ExecuteTime": {
     "end_time": "2025-09-30T15:01:11.783635Z",
     "start_time": "2025-09-30T15:00:50.350042Z"
    }
   },
   "outputs": [
    {
     "data": {
      "text/plain": [
       "39790092"
      ]
     },
     "execution_count": 16,
     "metadata": {},
     "output_type": "execute_result"
    },
    {
     "name": "stdout",
     "output_type": "stream",
     "text": [
      "time taken: 21.429769277572632\n"
     ]
    }
   ],
   "source": [
    "start_time = time.time()\n",
    "df_txn_details.count()\n",
    "print(f\"time taken: {time.time() - start_time}\")"
   ]
  },
  {
   "cell_type": "markdown",
   "id": "a3f7b9a3c7226e4e",
   "metadata": {},
   "source": [
    "### SALTING ON SKEWED DATA"
   ]
  },
  {
   "cell_type": "code",
   "execution_count": 17,
   "id": "f799c97fbe46cdbc",
   "metadata": {
    "ExecuteTime": {
     "end_time": "2025-09-30T15:02:41.107492Z",
     "start_time": "2025-09-30T15:02:41.099393Z"
    }
   },
   "outputs": [],
   "source": [
    "SALT_NUM = 5"
   ]
  },
  {
   "cell_type": "code",
   "execution_count": 18,
   "id": "486c9697999e6d92",
   "metadata": {
    "ExecuteTime": {
     "end_time": "2025-09-30T15:02:42.663555Z",
     "start_time": "2025-09-30T15:02:42.575190Z"
    }
   },
   "outputs": [],
   "source": [
    "salt_transactions = df_transactions.withColumn(\"salt\", (F.rand() * SALT_NUM).cast(\"int\"))"
   ]
  },
  {
   "cell_type": "code",
   "execution_count": 19,
   "id": "73f9c2b1dcf153b1",
   "metadata": {
    "ExecuteTime": {
     "end_time": "2025-09-30T15:03:07.302222Z",
     "start_time": "2025-09-30T15:03:07.108107Z"
    }
   },
   "outputs": [
    {
     "name": "stdout",
     "output_type": "stream",
     "text": [
      "+----------+----+\n",
      "|cust_id   |salt|\n",
      "+----------+----+\n",
      "|C0YDPQWPBJ|2   |\n",
      "|C0YDPQWPBJ|2   |\n",
      "|C0YDPQWPBJ|0   |\n",
      "|C0YDPQWPBJ|3   |\n",
      "|C0YDPQWPBJ|1   |\n",
      "+----------+----+\n",
      "only showing top 5 rows\n"
     ]
    }
   ],
   "source": [
    "#salt_transactions.show(10, False)\n",
    "\n",
    "salt_transactions.select(\"cust_id\", \"salt\").show(5, False)"
   ]
  },
  {
   "cell_type": "code",
   "execution_count": 20,
   "id": "dd73a04bb81f7656",
   "metadata": {
    "ExecuteTime": {
     "end_time": "2025-09-30T15:03:13.773595Z",
     "start_time": "2025-09-30T15:03:13.751801Z"
    }
   },
   "outputs": [
    {
     "name": "stdout",
     "output_type": "stream",
     "text": [
      "root\n",
      " |-- cust_id: string (nullable = true)\n",
      " |-- txn_id: string (nullable = true)\n",
      " |-- expense_type: string (nullable = true)\n",
      " |-- amt: string (nullable = true)\n",
      " |-- city: string (nullable = true)\n",
      " |-- salt: integer (nullable = true)\n",
      "\n"
     ]
    }
   ],
   "source": [
    "salt_transactions = salt_transactions.select(\"cust_id\", \"txn_id\", \"expense_type\", \"amt\", \"city\",\"salt\")\n",
    "\n",
    "salt_transactions.printSchema()"
   ]
  },
  {
   "cell_type": "code",
   "execution_count": 21,
   "id": "21f81fe0e0f0e0ec",
   "metadata": {
    "ExecuteTime": {
     "end_time": "2025-09-30T15:03:15.779486Z",
     "start_time": "2025-09-30T15:03:15.761915Z"
    }
   },
   "outputs": [
    {
     "name": "stdout",
     "output_type": "stream",
     "text": [
      "root\n",
      " |-- cust_id: string (nullable = true)\n",
      " |-- name: string (nullable = true)\n",
      " |-- age: string (nullable = true)\n",
      " |-- gender: string (nullable = true)\n",
      " |-- birthday: string (nullable = true)\n",
      " |-- zip: string (nullable = true)\n",
      " |-- city: string (nullable = true)\n",
      "\n"
     ]
    }
   ],
   "source": [
    "df_customers.printSchema()"
   ]
  },
  {
   "cell_type": "code",
   "execution_count": 22,
   "id": "2aa517596508107a",
   "metadata": {
    "ExecuteTime": {
     "end_time": "2025-09-30T15:03:17.410161Z",
     "start_time": "2025-09-30T15:03:17.354343Z"
    }
   },
   "outputs": [],
   "source": [
    "salt_customers = (\n",
    "    df_customers\n",
    "    .withColumn(\"salt_values\", F.array([F.lit(i) for i in range(SALT_NUM)]))\n",
    "    .withColumn(\"salt\", F.explode(F.col(\"salt_values\")))\n",
    "    .select(\"cust_id\", \"salt\", \"salt_values\")\n",
    ")"
   ]
  },
  {
   "cell_type": "code",
   "execution_count": 23,
   "id": "3f9c41c9c1924b4",
   "metadata": {
    "ExecuteTime": {
     "end_time": "2025-09-30T15:03:19.162686Z",
     "start_time": "2025-09-30T15:03:19.153913Z"
    }
   },
   "outputs": [
    {
     "name": "stdout",
     "output_type": "stream",
     "text": [
      "root\n",
      " |-- cust_id: string (nullable = true)\n",
      " |-- salt: integer (nullable = false)\n",
      " |-- salt_values: array (nullable = false)\n",
      " |    |-- element: integer (containsNull = false)\n",
      "\n"
     ]
    }
   ],
   "source": [
    "salt_customers.printSchema()"
   ]
  },
  {
   "cell_type": "code",
   "execution_count": 24,
   "id": "62f52443f5a09399",
   "metadata": {
    "ExecuteTime": {
     "end_time": "2025-09-30T15:03:20.387486Z",
     "start_time": "2025-09-30T15:03:20.136182Z"
    }
   },
   "outputs": [
    {
     "name": "stdout",
     "output_type": "stream",
     "text": [
      "+----------+----+---------------+\n",
      "|cust_id   |salt|salt_values    |\n",
      "+----------+----+---------------+\n",
      "|C007YEYTX9|0   |[0, 1, 2, 3, 4]|\n",
      "|C007YEYTX9|1   |[0, 1, 2, 3, 4]|\n",
      "|C007YEYTX9|2   |[0, 1, 2, 3, 4]|\n",
      "|C007YEYTX9|3   |[0, 1, 2, 3, 4]|\n",
      "|C007YEYTX9|4   |[0, 1, 2, 3, 4]|\n",
      "|C00B971T1J|0   |[0, 1, 2, 3, 4]|\n",
      "|C00B971T1J|1   |[0, 1, 2, 3, 4]|\n",
      "|C00B971T1J|2   |[0, 1, 2, 3, 4]|\n",
      "+----------+----+---------------+\n",
      "only showing top 8 rows\n"
     ]
    }
   ],
   "source": [
    "salt_customers.show(8, False)"
   ]
  },
  {
   "cell_type": "code",
   "execution_count": 25,
   "id": "ef558387642c6f06",
   "metadata": {
    "ExecuteTime": {
     "end_time": "2025-09-30T15:03:26.938820Z",
     "start_time": "2025-09-30T15:03:26.919560Z"
    }
   },
   "outputs": [],
   "source": [
    "df_joined = salt_transactions.join(\n",
    "    salt_customers,\n",
    "    [\"cust_id\", \"salt\"],\n",
    "    'inner')"
   ]
  },
  {
   "cell_type": "code",
   "execution_count": 26,
   "id": "cf970939fe8be57f",
   "metadata": {
    "ExecuteTime": {
     "end_time": "2025-09-30T15:03:28.453583Z",
     "start_time": "2025-09-30T15:03:28.400849Z"
    }
   },
   "outputs": [],
   "source": [
    "#avg txn amt\n",
    "\n",
    "avg_txn_amt = (\n",
    "    df_joined\n",
    "    .groupBy(\"cust_id\")\n",
    "    .agg(F.avg(\"amt\").alias(\"avg_txn_amt\"))\n",
    "    .orderBy(F.desc(\"avg_txn_amt\"))\n",
    ")"
   ]
  },
  {
   "cell_type": "code",
   "execution_count": 27,
   "id": "f9283cbc4d1582bb",
   "metadata": {
    "ExecuteTime": {
     "end_time": "2025-09-30T15:04:23.639659Z",
     "start_time": "2025-09-30T15:03:29.960279Z"
    }
   },
   "outputs": [
    {
     "name": "stdout",
     "output_type": "stream",
     "text": [
      "+----------+------------------+\n",
      "|cust_id   |avg_txn_amt       |\n",
      "+----------+------------------+\n",
      "|CRBRTDCWB5|274.74398429833167|\n",
      "|CA9UYOQ5DA|257.0569479285446 |\n",
      "|CQYO6YFE5T|256.60914331896555|\n",
      "|CGN9VRRD9S|254.3261152684782 |\n",
      "|CMWM4NK1DP|253.45855328620053|\n",
      "+----------+------------------+\n",
      "only showing top 5 rows\n"
     ]
    }
   ],
   "source": [
    "avg_txn_amt.show(5, False)"
   ]
  },
  {
   "cell_type": "code",
   "execution_count": 28,
   "id": "6d699e1a4fc4baff",
   "metadata": {
    "ExecuteTime": {
     "end_time": "2025-09-30T15:05:27.541368Z",
     "start_time": "2025-09-30T15:05:27.530603Z"
    }
   },
   "outputs": [],
   "source": [
    "#START AQE\n",
    "spark.conf.set(\"spark.sql.adaptive.enabled\", \"true\")\n",
    "spark.conf.set(\"spark.sql.adaptive.skewJoin.enabled\", \"true\")"
   ]
  },
  {
   "cell_type": "code",
   "execution_count": 29,
   "id": "91de60b777a08d57",
   "metadata": {
    "ExecuteTime": {
     "end_time": "2025-09-30T15:06:05.378737Z",
     "start_time": "2025-09-30T15:05:29.401683Z"
    }
   },
   "outputs": [
    {
     "name": "stdout",
     "output_type": "stream",
     "text": [
      "+----------+------------------+\n",
      "|cust_id   |avg_txn_amt       |\n",
      "+----------+------------------+\n",
      "|CRBRTDCWB5|274.7439842983318 |\n",
      "|CA9UYOQ5DA|257.0569479285441 |\n",
      "|CQYO6YFE5T|256.60914331896566|\n",
      "|CGN9VRRD9S|254.3261152684782 |\n",
      "|CMWM4NK1DP|253.45855328620053|\n",
      "+----------+------------------+\n",
      "only showing top 5 rows\n"
     ]
    }
   ],
   "source": [
    "#avg txn amt\n",
    "\n",
    "avg_txn_amt = (\n",
    "    df_joined\n",
    "    .groupBy(\"cust_id\")\n",
    "    .agg(F.avg(\"amt\").alias(\"avg_txn_amt\"))\n",
    "    .orderBy(F.desc(\"avg_txn_amt\"))\n",
    ")\n",
    "\n",
    "avg_txn_amt.show(5, False)"
   ]
  },
  {
   "cell_type": "code",
   "execution_count": 30,
   "id": "ddb6ecb0fb0ecba6",
   "metadata": {
    "ExecuteTime": {
     "end_time": "2025-09-30T15:07:27.821060Z",
     "start_time": "2025-09-30T15:07:24.122037Z"
    }
   },
   "outputs": [
    {
     "name": "stdout",
     "output_type": "stream",
     "text": [
      "+----------+-----+\n",
      "|   cust_id|count|\n",
      "+----------+-----+\n",
      "|CEEPXNQ9NQ| 7625|\n",
      "|C00WRSJF1Q| 7777|\n",
      "|C9UFHRMRQE| 7214|\n",
      "|C8EKBL7G9T| 7370|\n",
      "|CF4T0Z3WJ2| 7152|\n",
      "|COEAGSIT29| 7214|\n",
      "|C4P7AEI6CC| 7713|\n",
      "|CP2D91H1S8| 7782|\n",
      "|C8HE0MGBDU| 7990|\n",
      "|CS86SPLSV8| 7255|\n",
      "|CK9WUHS2O1| 7431|\n",
      "|CNERMUJRNI| 7705|\n",
      "|C48FW6NX52| 7482|\n",
      "|CV3G07K3WC| 7600|\n",
      "|CA58S3H7V3| 7458|\n",
      "|CAZMBDSMA8| 7231|\n",
      "|CVV3KZW395| 7133|\n",
      "|CEL4JSH0AT| 7810|\n",
      "|CE9AFTP6UO| 7270|\n",
      "|CW1X61XN86| 7757|\n",
      "+----------+-----+\n",
      "only showing top 20 rows\n"
     ]
    }
   ],
   "source": [
    "salt_transactions.groupBy(\"cust_id\").count().show()"
   ]
  },
  {
   "cell_type": "markdown",
   "id": "344fc1ff3f785bc4",
   "metadata": {},
   "source": [
    "### INCREASE SALT NUMBER"
   ]
  },
  {
   "cell_type": "markdown",
   "id": "7a97d6eb0be65549",
   "metadata": {},
   "source": [
    "**not always a better thing to increase salt number because then the explode() command increases unnecessary redundant data**"
   ]
  },
  {
   "cell_type": "code",
   "execution_count": null,
   "id": "e20e4391f9b2e74",
   "metadata": {},
   "outputs": [],
   "source": [
    "SALT_NUM = 10\n",
    "salt_transactions = df_transactions.withColumn(\"salt\", (F.rand() * SALT_NUM).cast(\"int\"))"
   ]
  },
  {
   "cell_type": "code",
   "execution_count": null,
   "id": "776886fddc6e4c1c",
   "metadata": {},
   "outputs": [],
   "source": [
    "salt_transactions.printSchema()\n",
    "\n",
    "salt_transactions = salt_transactions.select(\"cust_id\",\"txn_id\", \"expense_type\", \"amt\", \"city\",\"salt\")\n",
    "salt_transactions.show(5, False)"
   ]
  },
  {
   "cell_type": "code",
   "execution_count": null,
   "id": "9a487dec1fa70fae",
   "metadata": {},
   "outputs": [],
   "source": [
    "salt_customers = (\n",
    "    df_customers\n",
    "    .withColumn(\"salt_values\", F.array([F.lit(i) for i in range(SALT_NUM)]))\n",
    "    .withColumn(\"salt\", F.explode(F.col(\"salt_values\")))\n",
    "    .select(\"cust_id\",\"age\", \"city\", \"salt\", \"salt_values\")\n",
    ")"
   ]
  },
  {
   "cell_type": "code",
   "execution_count": null,
   "id": "2104fd912785a432",
   "metadata": {},
   "outputs": [],
   "source": [
    "salt_customers.printSchema()\n",
    "salt_customers.show(10, False)"
   ]
  },
  {
   "cell_type": "code",
   "execution_count": null,
   "id": "41300c3d2de3dc0f",
   "metadata": {},
   "outputs": [],
   "source": [
    "salt_customers.drop(\"salt_values\")"
   ]
  },
  {
   "cell_type": "code",
   "execution_count": null,
   "id": "59cda2c02294d509",
   "metadata": {},
   "outputs": [],
   "source": [
    "df_joined_2 = salt_transactions.join(\n",
    "    salt_customers,\n",
    "    [\"cust_id\", \"salt\"],\n",
    "    'inner'\n",
    ")"
   ]
  },
  {
   "cell_type": "code",
   "execution_count": null,
   "id": "e920cd8bbefdaec8",
   "metadata": {},
   "outputs": [],
   "source": [
    "df_joined_2 = df_joined_2.withColumn(\"amt\", F.col(\"amt\").cast(IntegerType()))"
   ]
  },
  {
   "cell_type": "code",
   "execution_count": null,
   "id": "b3d7f22053778e50",
   "metadata": {},
   "outputs": [],
   "source": [
    "df_joined_2.printSchema()"
   ]
  },
  {
   "cell_type": "code",
   "execution_count": null,
   "id": "b8b8e28acc1c08a3",
   "metadata": {},
   "outputs": [],
   "source": [
    "#sum txn amt group by cust_id and expense_type\n",
    "\n",
    "sum_txn_amt = (\n",
    "    df_joined\n",
    "    .groupBy(\"cust_id\", \"expense_type\")\n",
    "    .agg(F.sum(\"amt\").alias(\"sum\"))\n",
    ")"
   ]
  },
  {
   "cell_type": "code",
   "execution_count": null,
   "id": "636676da9864cc38",
   "metadata": {},
   "outputs": [],
   "source": [
    "sum_txn_amt.show(truncate = False)"
   ]
  },
  {
   "cell_type": "code",
   "execution_count": null,
   "id": "cccbfc59a36b5c3e",
   "metadata": {},
   "outputs": [],
   "source": [
    "df_joined_2.select(\"expense_type\").distinct().show()"
   ]
  },
  {
   "cell_type": "markdown",
   "id": "e89301261d25f99",
   "metadata": {},
   "source": [
    "### Trying Double Salting (Manually) without AQE"
   ]
  },
  {
   "cell_type": "markdown",
   "id": "b58a274eb1c07c02",
   "metadata": {},
   "source": [
    "**again redundant as salted before with 5 (or 10) and then salting again with 5 is hectic**\n",
    "\n",
    "**can be tried if the original salt number is less say 2 or 3**"
   ]
  },
  {
   "cell_type": "code",
   "execution_count": 31,
   "id": "f633e759e37ee19b",
   "metadata": {
    "ExecuteTime": {
     "end_time": "2025-09-30T15:09:51.145726Z",
     "start_time": "2025-09-30T15:09:51.138443Z"
    }
   },
   "outputs": [],
   "source": [
    "spark.conf.set(\"spark.sql.adaptive.enabled\", \"false\")\n",
    "spark.conf.set(\"spark.sql.adaptive.skewJoin.enabled\", \"false\")"
   ]
  },
  {
   "cell_type": "code",
   "execution_count": null,
   "id": "1447e460be33de51",
   "metadata": {},
   "outputs": [],
   "source": [
    "df_joined_2.printSchema()\n",
    "#df_joined_2.show(5, truncate = False)"
   ]
  },
  {
   "cell_type": "code",
   "execution_count": null,
   "id": "1102ed797717fb11",
   "metadata": {},
   "outputs": [],
   "source": [
    "salt_customers = (\n",
    "    df_customers\n",
    "    .drop(\"city\")\n",
    "    .withColumn(\"salt_values\", F.array([F.lit(i) for i in range(SALT_NUM)]))\n",
    "    .withColumn(\"salt\", F.explode(F.col(\"salt_values\")))\n",
    "    .select(\"cust_id\",\"age\", \"salt\", \"salt_values\")\n",
    ")"
   ]
  },
  {
   "cell_type": "code",
   "execution_count": null,
   "id": "96ae531f0acfbd82",
   "metadata": {},
   "outputs": [],
   "source": [
    "salt_transactions.printSchema()\n",
    "salt_customers.printSchema()\n",
    "\n",
    "SALT_NUM"
   ]
  },
  {
   "cell_type": "code",
   "execution_count": null,
   "id": "8dade99b704f96af",
   "metadata": {},
   "outputs": [],
   "source": [
    "df_joined_3 = salt_transactions.join(\n",
    "    salt_customers,\n",
    "    [\"cust_id\", \"salt\"],\n",
    "    'inner'\n",
    ")"
   ]
  },
  {
   "cell_type": "code",
   "execution_count": null,
   "id": "d4b0d460b567e181",
   "metadata": {},
   "outputs": [],
   "source": [
    "#SALT AGAIN for better salting\n",
    "SALT_NUM_2  = 5\n",
    "\n",
    "#salt_transactions = df_transactions.withColumn(\"salt\", (F.rand() * SALT_NUM).cast(\"int\"))\n",
    "salt_again_txn = (\n",
    "    df_joined_3\n",
    "    .withColumn(\"salt2\", (F.rand() * SALT_NUM_2).cast(\"int\"))\n",
    ")"
   ]
  },
  {
   "cell_type": "code",
   "execution_count": null,
   "id": "99b1e96573b6bf48",
   "metadata": {},
   "outputs": [],
   "source": [
    "salt_again_customers = (\n",
    "    df_joined_3\n",
    "    .withColumn(\"salt_values2\", F.array([F.lit(i) for i in range(SALT_NUM)]))\n",
    "    .withColumn(\"salt2\", F.explode(F.col(\"salt_values2\")))\n",
    ")"
   ]
  },
  {
   "cell_type": "code",
   "execution_count": null,
   "id": "13daf8f57e5435ad",
   "metadata": {},
   "outputs": [],
   "source": [
    "salt_again_txn.printSchema()\n",
    "salt_again_customers.printSchema()"
   ]
  },
  {
   "cell_type": "code",
   "execution_count": null,
   "id": "f30106189d4f85bd",
   "metadata": {},
   "outputs": [],
   "source": [
    "df_joined_3 = salt_again_txn.join(\n",
    "    salt_again_customers,\n",
    "    [\"cust_id\", \"salt\",\"salt2\"],\n",
    "    'inner'\n",
    ")"
   ]
  },
  {
   "cell_type": "code",
   "execution_count": null,
   "id": "e29dafc54867006b",
   "metadata": {},
   "outputs": [],
   "source": [
    "df_joined.printSchema()"
   ]
  },
  {
   "cell_type": "code",
   "execution_count": 32,
   "id": "44be4c051f99151a",
   "metadata": {
    "ExecuteTime": {
     "end_time": "2025-09-30T15:10:34.635029Z",
     "start_time": "2025-09-30T15:10:34.156331Z"
    }
   },
   "outputs": [],
   "source": [
    "#spark.stop()"
   ]
  },
  {
   "cell_type": "code",
   "execution_count": null,
   "id": "f4faf548eff50681",
   "metadata": {},
   "outputs": [],
   "source": []
  }
 ],
 "metadata": {
  "kernelspec": {
   "display_name": "venv",
   "language": "python",
   "name": "python3"
  },
  "language_info": {
   "codemirror_mode": {
    "name": "ipython",
    "version": 2
   },
   "file_extension": ".py",
   "mimetype": "text/x-python",
   "name": "python",
   "nbconvert_exporter": "python",
   "pygments_lexer": "ipython2",
   "version": "3.11.9"
  }
 },
 "nbformat": 4,
 "nbformat_minor": 5
}
