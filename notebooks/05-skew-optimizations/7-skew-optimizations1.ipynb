{
 "cells": [
  {
   "cell_type": "code",
   "execution_count": 1,
   "id": "initial_id",
   "metadata": {
    "ExecuteTime": {
     "end_time": "2025-09-30T14:28:09.482775Z",
     "start_time": "2025-09-30T14:28:09.466194Z"
    },
    "collapsed": true
   },
   "outputs": [],
   "source": [
    "from IPython.core.interactiveshell import InteractiveShell\n",
    "InteractiveShell.ast_node_interactivity = 'all'\n",
    "\n",
    "import warnings\n",
    "warnings.filterwarnings('ignore')\n",
    "warnings.simplefilter('ignore')\n",
    "import time"
   ]
  },
  {
   "cell_type": "code",
   "execution_count": 2,
   "id": "747f118c0fd1ac0b",
   "metadata": {
    "ExecuteTime": {
     "end_time": "2025-09-30T14:28:10.403237Z",
     "start_time": "2025-09-30T14:28:10.397269Z"
    }
   },
   "outputs": [],
   "source": [
    "import os\n",
    "os.environ[\"PYSPARK_PYTHON\"] = \"python\"\n",
    "os.environ[\"PYSPARK_DRIVER_PYTHON\"] = \"python\""
   ]
  },
  {
   "cell_type": "code",
   "execution_count": 3,
   "id": "8b71665fa56923fb",
   "metadata": {
    "ExecuteTime": {
     "end_time": "2025-09-30T14:28:17.087579Z",
     "start_time": "2025-09-30T14:28:16.101350Z"
    }
   },
   "outputs": [],
   "source": [
    "from pyspark.sql.types import IntegerType\n",
    "import pyspark.sql.functions as F\n",
    "from pyspark.sql import SparkSession"
   ]
  },
  {
   "cell_type": "code",
   "execution_count": 4,
   "id": "dff2e5f366e5e1f8",
   "metadata": {
    "ExecuteTime": {
     "end_time": "2025-09-30T14:33:19.771430Z",
     "start_time": "2025-09-30T14:33:07.959093Z"
    }
   },
   "outputs": [],
   "source": [
    "spark = (\n",
    "    SparkSession\n",
    "    .builder\n",
    "    .appName(\"Testing testing\")\n",
    "    .master(\"spark://192.168.1.15:7077\")        #ip address of master\n",
    "    .config(\"spark.hadoop.hadoop.native.io\", \"false\")\n",
    "    .getOrCreate()\n",
    ")"
   ]
  },
  {
   "cell_type": "code",
   "execution_count": 5,
   "id": "263db17de185ce23",
   "metadata": {
    "ExecuteTime": {
     "end_time": "2025-09-30T14:35:50.717747Z",
     "start_time": "2025-09-30T14:35:50.710653Z"
    }
   },
   "outputs": [],
   "source": [
    "#spark = SparkSession.builder.master(\"local[*]\").getOrCreate()\n",
    "sc = spark.sparkContext\n",
    "sc.setLogLevel(\"ERROR\")"
   ]
  },
  {
   "cell_type": "code",
   "execution_count": 6,
   "id": "ceb8a011243bcc89",
   "metadata": {
    "ExecuteTime": {
     "end_time": "2025-09-30T14:35:54.975915Z",
     "start_time": "2025-09-30T14:35:54.592943Z"
    }
   },
   "outputs": [],
   "source": [
    "# spark.conf.set(\"spark.sql.shuffle.partitions\", \"3\")\n",
    "spark.conf.set(\"spark.sql.adaptive.enabled\", \"false\")"
   ]
  },
  {
   "cell_type": "code",
   "execution_count": 7,
   "id": "ef2df0b9f33943fa",
   "metadata": {
    "ExecuteTime": {
     "end_time": "2025-09-30T14:36:03.073762Z",
     "start_time": "2025-09-30T14:36:03.063671Z"
    }
   },
   "outputs": [
    {
     "name": "stdout",
     "output_type": "stream",
     "text": [
      "None\n",
      "C:\\Users\\Dell\\spark-4.0.0-bin-hadoop3\n"
     ]
    }
   ],
   "source": [
    "print(os.environ.get(\"PYSPARK_SUBMIT_ARGS\"))\n",
    "print(os.environ.get(\"SPARK_HOME\"))"
   ]
  },
  {
   "cell_type": "markdown",
   "id": "51054a3089b8703d",
   "metadata": {},
   "source": [
    "### SKEW"
   ]
  },
  {
   "cell_type": "code",
   "execution_count": null,
   "id": "fdba374aa7d678ee",
   "metadata": {
    "ExecuteTime": {
     "end_time": "2025-09-30T14:39:59.447303Z",
     "start_time": "2025-09-30T14:39:59.114226Z"
    }
   },
   "outputs": [],
   "source": [
    "transactions_file = \"../../data/transactions.parquet\"\n",
    "customers_file = \"../../data/customers.parquet\"\n",
    "\n",
    "df_transactions = spark.read.parquet(transactions_file)\n",
    "df_customers = spark.read.parquet(customers_file)"
   ]
  },
  {
   "cell_type": "code",
   "execution_count": 12,
   "id": "1975cdbf2ded14f5",
   "metadata": {
    "ExecuteTime": {
     "end_time": "2025-09-30T14:40:11.759464Z",
     "start_time": "2025-09-30T14:40:07.931809Z"
    }
   },
   "outputs": [
    {
     "name": "stdout",
     "output_type": "stream",
     "text": [
      "root\n",
      " |-- cust_id: string (nullable = true)\n",
      " |-- start_date: string (nullable = true)\n",
      " |-- end_date: string (nullable = true)\n",
      " |-- txn_id: string (nullable = true)\n",
      " |-- date: string (nullable = true)\n",
      " |-- year: string (nullable = true)\n",
      " |-- month: string (nullable = true)\n",
      " |-- day: string (nullable = true)\n",
      " |-- expense_type: string (nullable = true)\n",
      " |-- amt: string (nullable = true)\n",
      " |-- city: string (nullable = true)\n",
      "\n",
      "+----------+----------+----------+---------------+----------+----+-----+---+-------------+------+-----------+\n",
      "|cust_id   |start_date|end_date  |txn_id         |date      |year|month|day|expense_type |amt   |city       |\n",
      "+----------+----------+----------+---------------+----------+----+-----+---+-------------+------+-----------+\n",
      "|C0YDPQWPBJ|2010-07-01|2018-12-01|TZ5SMKZY9S03OQJ|2018-10-07|2018|10   |7  |Entertainment|10.42 |boston     |\n",
      "|C0YDPQWPBJ|2010-07-01|2018-12-01|TYIAPPNU066CJ5R|2016-03-27|2016|3    |27 |Motor/Travel |44.34 |portland   |\n",
      "|C0YDPQWPBJ|2010-07-01|2018-12-01|TETSXIK4BLXHJ6W|2011-04-11|2011|4    |11 |Entertainment|3.18  |chicago    |\n",
      "|C0YDPQWPBJ|2010-07-01|2018-12-01|TQKL1QFJY3EM8LO|2018-02-22|2018|2    |22 |Groceries    |268.97|los_angeles|\n",
      "|C0YDPQWPBJ|2010-07-01|2018-12-01|TYL6DFP09PPXMVB|2010-10-16|2010|10   |16 |Entertainment|2.66  |chicago    |\n",
      "+----------+----------+----------+---------------+----------+----+-----+---+-------------+------+-----------+\n",
      "only showing top 5 rows\n",
      "root\n",
      " |-- cust_id: string (nullable = true)\n",
      " |-- name: string (nullable = true)\n",
      " |-- age: string (nullable = true)\n",
      " |-- gender: string (nullable = true)\n",
      " |-- birthday: string (nullable = true)\n",
      " |-- zip: string (nullable = true)\n",
      " |-- city: string (nullable = true)\n",
      "\n",
      "+----------+-------------+---+------+----------+-----+-----------+\n",
      "|cust_id   |name         |age|gender|birthday  |zip  |city       |\n",
      "+----------+-------------+---+------+----------+-----+-----------+\n",
      "|C007YEYTX9|Aaron Abbott |34 |Female|7/13/1991 |97823|boston     |\n",
      "|C00B971T1J|Aaron Austin |37 |Female|12/16/2004|30332|chicago    |\n",
      "|C00WRSJF1Q|Aaron Barnes |29 |Female|3/11/1977 |23451|denver     |\n",
      "|C01AZWQMF3|Aaron Barrett|31 |Male  |7/9/1998  |46613|los_angeles|\n",
      "|C01BKUFRHA|Aaron Becker |54 |Male  |11/24/1979|40284|san_diego  |\n",
      "+----------+-------------+---+------+----------+-----+-----------+\n",
      "only showing top 5 rows\n"
     ]
    }
   ],
   "source": [
    "df_transactions.printSchema()\n",
    "df_transactions.show(5, False)\n",
    "\n",
    "df_customers.printSchema()\n",
    "df_customers.show(5, False)"
   ]
  },
  {
   "cell_type": "code",
   "execution_count": 13,
   "id": "ac811e23c8a5138a",
   "metadata": {
    "ExecuteTime": {
     "end_time": "2025-09-30T14:40:17.796289Z",
     "start_time": "2025-09-30T14:40:17.781303Z"
    }
   },
   "outputs": [],
   "source": [
    "spark.conf.set(\"spark.sql.autoBroadcastJoinThreshold\", -1)  #disable broadcast join"
   ]
  },
  {
   "cell_type": "code",
   "execution_count": 14,
   "id": "eabea2027effb73d",
   "metadata": {
    "ExecuteTime": {
     "end_time": "2025-09-30T14:40:20.129266Z",
     "start_time": "2025-09-30T14:40:20.082072Z"
    }
   },
   "outputs": [],
   "source": [
    "df_txn_details = (\n",
    "    df_transactions.join(\n",
    "        df_customers,\n",
    "        on=\"cust_id\",\n",
    "        how=\"inner\"\n",
    "    )\n",
    ")"
   ]
  },
  {
   "cell_type": "code",
   "execution_count": 15,
   "id": "fe29fdac316c126d",
   "metadata": {
    "ExecuteTime": {
     "end_time": "2025-09-30T14:41:00.332219Z",
     "start_time": "2025-09-30T14:40:25.458595Z"
    }
   },
   "outputs": [
    {
     "data": {
      "text/plain": [
       "39790092"
      ]
     },
     "execution_count": 15,
     "metadata": {},
     "output_type": "execute_result"
    },
    {
     "name": "stdout",
     "output_type": "stream",
     "text": [
      "time taken: 34.85749077796936\n"
     ]
    }
   ],
   "source": [
    "#simple join and then count\n",
    "start_time = time.time()\n",
    "df_txn_details.count()\n",
    "print(f\"time taken: {time.time() - start_time}\")"
   ]
  },
  {
   "cell_type": "code",
   "execution_count": 16,
   "id": "e35bbff7b3f9587e",
   "metadata": {
    "ExecuteTime": {
     "end_time": "2025-09-30T14:41:50.680389Z",
     "start_time": "2025-09-30T14:41:50.548369Z"
    }
   },
   "outputs": [],
   "source": [
    "#avg txn amt with skewed dataset (no salting)\n",
    "\n",
    "avg_txn_amt = (\n",
    "    df_txn_details\n",
    "    .groupBy(\"cust_id\")\n",
    "    .agg(F.avg(\"amt\").alias(\"avg_txn_amt\"))\n",
    "    .orderBy(F.desc(\"avg_txn_amt\"))\n",
    ")"
   ]
  },
  {
   "cell_type": "code",
   "execution_count": 17,
   "id": "85ab11bdbbb11106",
   "metadata": {
    "ExecuteTime": {
     "end_time": "2025-09-30T14:42:38.230870Z",
     "start_time": "2025-09-30T14:41:51.871411Z"
    }
   },
   "outputs": [
    {
     "name": "stdout",
     "output_type": "stream",
     "text": [
      "+----------+------------------+\n",
      "|cust_id   |avg_txn_amt       |\n",
      "+----------+------------------+\n",
      "|CRBRTDCWB5|274.74398429833127|\n",
      "|CA9UYOQ5DA|257.0569479285439 |\n",
      "|CQYO6YFE5T|256.6091433189658 |\n",
      "|CGN9VRRD9S|254.3261152684778 |\n",
      "|CMWM4NK1DP|253.45855328620036|\n",
      "+----------+------------------+\n",
      "only showing top 5 rows\n"
     ]
    }
   ],
   "source": [
    "avg_txn_amt.show(5, truncate=False)"
   ]
  },
  {
   "cell_type": "markdown",
   "id": "fd980e8dcaaaa5e",
   "metadata": {},
   "source": [
    "### SALTING"
   ]
  },
  {
   "cell_type": "code",
   "execution_count": 18,
   "id": "1b2fe2370bb5de6",
   "metadata": {
    "ExecuteTime": {
     "end_time": "2025-09-30T14:42:46.582295Z",
     "start_time": "2025-09-30T14:42:46.286829Z"
    }
   },
   "outputs": [
    {
     "name": "stdout",
     "output_type": "stream",
     "text": [
      "+----------+---------------+-------------+------+-----------+----+\n",
      "|cust_id   |txn_id         |expense_type |amt   |city       |salt|\n",
      "+----------+---------------+-------------+------+-----------+----+\n",
      "|C0YDPQWPBJ|TZ5SMKZY9S03OQJ|Entertainment|10.42 |boston     |2   |\n",
      "|C0YDPQWPBJ|TYIAPPNU066CJ5R|Motor/Travel |44.34 |portland   |0   |\n",
      "|C0YDPQWPBJ|TETSXIK4BLXHJ6W|Entertainment|3.18  |chicago    |1   |\n",
      "|C0YDPQWPBJ|TQKL1QFJY3EM8LO|Groceries    |268.97|los_angeles|1   |\n",
      "|C0YDPQWPBJ|TYL6DFP09PPXMVB|Entertainment|2.66  |chicago    |0   |\n",
      "+----------+---------------+-------------+------+-----------+----+\n",
      "only showing top 5 rows\n"
     ]
    }
   ],
   "source": [
    "SALT_NUM = 3\n",
    "\n",
    "salt_transactions = df_transactions.withColumn(\"salt\", (F.rand() * SALT_NUM).cast(\"int\"))\n",
    "\n",
    "#salt_transactions.show(10, False)\n",
    "\n",
    "salt_transactions = salt_transactions.select(\"cust_id\", \"txn_id\", \"expense_type\", \"amt\", \"city\",\"salt\")\n",
    "salt_transactions.show(5, False)"
   ]
  },
  {
   "cell_type": "code",
   "execution_count": 19,
   "id": "f30f2ce2d70c1067",
   "metadata": {
    "ExecuteTime": {
     "end_time": "2025-09-30T14:43:02.679268Z",
     "start_time": "2025-09-30T14:43:02.417946Z"
    }
   },
   "outputs": [
    {
     "name": "stdout",
     "output_type": "stream",
     "text": [
      "+----------+---+------+----+-----------+\n",
      "|cust_id   |age|gender|salt|salt_values|\n",
      "+----------+---+------+----+-----------+\n",
      "|C007YEYTX9|34 |Female|0   |[0, 1, 2]  |\n",
      "|C007YEYTX9|34 |Female|1   |[0, 1, 2]  |\n",
      "|C007YEYTX9|34 |Female|2   |[0, 1, 2]  |\n",
      "|C00B971T1J|37 |Female|0   |[0, 1, 2]  |\n",
      "|C00B971T1J|37 |Female|1   |[0, 1, 2]  |\n",
      "+----------+---+------+----+-----------+\n",
      "only showing top 5 rows\n"
     ]
    }
   ],
   "source": [
    "salt_customers = (\n",
    "    df_customers\n",
    "    .withColumn(\"salt_values\", F.array([F.lit(i) for i in range(SALT_NUM)]))\n",
    "    .withColumn(\"salt\", F.explode(F.col(\"salt_values\")))\n",
    "    .select(\"cust_id\", \"age\", \"gender\", \"salt\", \"salt_values\")\n",
    ")\n",
    "\n",
    "salt_customers.show(5, False)"
   ]
  },
  {
   "cell_type": "code",
   "execution_count": 20,
   "id": "c1dd93e077ad44dd",
   "metadata": {
    "ExecuteTime": {
     "end_time": "2025-09-30T14:43:19.379925Z",
     "start_time": "2025-09-30T14:43:19.348751Z"
    }
   },
   "outputs": [],
   "source": [
    "#salted join with avg_txn_amt\n",
    "\n",
    "df_salted_join = salt_transactions.join(\n",
    "    salt_customers,\n",
    "    [\"cust_id\", \"salt\"],\n",
    "    how=\"inner\"\n",
    ")"
   ]
  },
  {
   "cell_type": "code",
   "execution_count": 21,
   "id": "46121768c8e662b6",
   "metadata": {
    "ExecuteTime": {
     "end_time": "2025-09-30T14:43:48.715842Z",
     "start_time": "2025-09-30T14:43:20.819941Z"
    }
   },
   "outputs": [
    {
     "data": {
      "text/plain": [
       "39790092"
      ]
     },
     "execution_count": 21,
     "metadata": {},
     "output_type": "execute_result"
    },
    {
     "name": "stdout",
     "output_type": "stream",
     "text": [
      "time taken: 27.87901759147644\n"
     ]
    }
   ],
   "source": [
    "#salted join and then count\n",
    "start_time = time.time()\n",
    "df_salted_join.count()\n",
    "print(f\"time taken: {time.time() - start_time}\")"
   ]
  },
  {
   "cell_type": "code",
   "execution_count": 22,
   "id": "3ba01dcfee1b46ae",
   "metadata": {
    "ExecuteTime": {
     "end_time": "2025-09-30T14:45:22.589189Z",
     "start_time": "2025-09-30T14:44:04.608450Z"
    }
   },
   "outputs": [
    {
     "name": "stdout",
     "output_type": "stream",
     "text": [
      "+----------+------------------+\n",
      "|cust_id   |avg_txn_amt       |\n",
      "+----------+------------------+\n",
      "|CRBRTDCWB5|274.74398429833195|\n",
      "|CA9UYOQ5DA|257.0569479285442 |\n",
      "|CQYO6YFE5T|256.6091433189656 |\n",
      "|CGN9VRRD9S|254.32611526847816|\n",
      "|CMWM4NK1DP|253.45855328620053|\n",
      "+----------+------------------+\n",
      "only showing top 5 rows\n",
      "time taken: 77.9297685623169\n"
     ]
    }
   ],
   "source": [
    "#avg txn amt\n",
    "\n",
    "avg_salt_txn_amt = (\n",
    "    df_salted_join\n",
    "    .groupBy(\"cust_id\")\n",
    "    .agg(F.avg(\"amt\").alias(\"avg_txn_amt\"))\n",
    "    .orderBy(F.desc(\"avg_txn_amt\"))\n",
    ")\n",
    "\n",
    "#simple join and then count\n",
    "start_time = time.time()\n",
    "avg_salt_txn_amt.show(5, False)\n",
    "print(f\"time taken: {time.time() - start_time}\")"
   ]
  },
  {
   "cell_type": "code",
   "execution_count": 23,
   "id": "917c12df23104c2a",
   "metadata": {
    "ExecuteTime": {
     "end_time": "2025-09-30T14:52:21.712573Z",
     "start_time": "2025-09-30T14:52:21.568923Z"
    }
   },
   "outputs": [],
   "source": [
    "#spark.stop()"
   ]
  }
 ],
 "metadata": {
  "kernelspec": {
   "display_name": "venv",
   "language": "python",
   "name": "python3"
  },
  "language_info": {
   "codemirror_mode": {
    "name": "ipython",
    "version": 2
   },
   "file_extension": ".py",
   "mimetype": "text/x-python",
   "name": "python",
   "nbconvert_exporter": "python",
   "pygments_lexer": "ipython2",
   "version": "3.11.9"
  }
 },
 "nbformat": 4,
 "nbformat_minor": 5
}
