{
 "cells": [
  {
   "cell_type": "code",
   "execution_count": 1,
   "id": "38ab0610",
   "metadata": {},
   "outputs": [],
   "source": [
    "from pyspark.sql import SparkSession\n",
    "from pyspark.sql.types import *\n",
    "import pyspark.sql.functions as F\n",
    "import warnings\n",
    "warnings.filterwarnings(\"ignore\")\n",
    "\n",
    "from IPython.core.interactiveshell import InteractiveShell\n",
    "InteractiveShell.ast_node_interactivity = 'all'\n",
    "\n",
    "import time\n",
    "\n",
    "import os\n",
    "# Set environment variables (local paths)\n",
    "os.environ[\"JAVA_HOME\"] = \"D:/Programs/Java\"\n",
    "os.environ[\"HADOOP_HOME\"] = \"D:/Programs/hadoop\"\n",
    "os.environ[\"SPARK_HOME\"] = \"D:/Programs/spark/spark-3.5.6-bin-hadoop3\"  # Adjust if different\n",
    "\n",
    "import findspark\n",
    "# Initialize findspark\n",
    "findspark.init(\"D:/Programs/spark/spark-3.5.6-bin-hadoop3\")"
   ]
  },
  {
   "cell_type": "code",
   "execution_count": 2,
   "id": "78a1813d",
   "metadata": {},
   "outputs": [
    {
     "data": {
      "text/html": [
       "\n",
       "            <div>\n",
       "                <p><b>SparkSession - in-memory</b></p>\n",
       "                \n",
       "        <div>\n",
       "            <p><b>SparkContext</b></p>\n",
       "\n",
       "            <p><a href=\"http://host.docker.internal:4040\">Spark UI</a></p>\n",
       "\n",
       "            <dl>\n",
       "              <dt>Version</dt>\n",
       "                <dd><code>v3.5.6</code></dd>\n",
       "              <dt>Master</dt>\n",
       "                <dd><code>local[*]</code></dd>\n",
       "              <dt>AppName</dt>\n",
       "                <dd><code>ArrowOptimizations</code></dd>\n",
       "            </dl>\n",
       "        </div>\n",
       "        \n",
       "            </div>\n",
       "        "
      ],
      "text/plain": [
       "<pyspark.sql.session.SparkSession at 0x179425525d0>"
      ]
     },
     "execution_count": 2,
     "metadata": {},
     "output_type": "execute_result"
    }
   ],
   "source": [
    "# Creating the spark session\n",
    "\n",
    "spark = SparkSession.builder \\\n",
    "    .appName(\"ArrowOptimizations\") \\\n",
    "    .master(\"local[*]\") \\\n",
    "    .getOrCreate()\n",
    "\n",
    "spark.sparkContext.setLogLevel(\"ERROR\")\n",
    "spark"
   ]
  },
  {
   "cell_type": "code",
   "execution_count": 3,
   "id": "08356c09",
   "metadata": {},
   "outputs": [
    {
     "name": "stdout",
     "output_type": "stream",
     "text": [
      "Arrow Enabled: false\n"
     ]
    }
   ],
   "source": [
    "print(\"Arrow Enabled:\", spark.conf.get(\"spark.sql.execution.arrow.pyspark.enabled\"))\n",
    "# Arrow Enabled: false (Disabled by Default)"
   ]
  },
  {
   "cell_type": "code",
   "execution_count": 4,
   "id": "4fb6c474",
   "metadata": {},
   "outputs": [
    {
     "name": "stdout",
     "output_type": "stream",
     "text": [
      "+---------+------------------+\n",
      "|     city|           avg_amt|\n",
      "+---------+------------------+\n",
      "|san_diego|112.48630473111164|\n",
      "|  chicago|112.45431524573912|\n",
      "|   denver|112.45875942713126|\n",
      "|   boston|112.64896775840012|\n",
      "|  seattle| 112.5738240796807|\n",
      "+---------+------------------+\n",
      "only showing top 5 rows\n",
      "\n"
     ]
    }
   ],
   "source": [
    "transactions_file = \"../../data/transactions.parquet\"\n",
    "df_transactions = spark.read.parquet(transactions_file)\n",
    "\n",
    "df_transformed = (\n",
    "    df_transactions\n",
    "    .filter(F.col(\"amt\") > 10)\n",
    "    .groupBy(\"city\")\n",
    "    .agg(F.avg(\"amt\").alias(\"avg_amt\"))\n",
    ")\n",
    "\n",
    "df_transformed.show(5)"
   ]
  },
  {
   "cell_type": "code",
   "execution_count": null,
   "id": "6162a40e",
   "metadata": {},
   "outputs": [
    {
     "name": "stdout",
     "output_type": "stream",
     "text": [
      "Arrow Enabled: false\n",
      "Time without Arrow: 5.1042563915252686\n"
     ]
    }
   ],
   "source": [
    "# Arrow Disabled\n",
    "spark.conf.set(\"spark.sql.execution.arrow.pyspark.enabled\", \"false\")\n",
    "print(\"Arrow Enabled:\", spark.conf.get(\"spark.sql.execution.arrow.pyspark.enabled\")) \n",
    "# Arrow Enabled: false\n",
    "\n",
    "start = time.time()\n",
    "pdf = df_transformed.toPandas()   # Convert to Pandas\n",
    "end = time.time()\n",
    "\n",
    "print(\"Time without Arrow:\", end - start)\n",
    "\n",
    "# Time without Arrow: 5.1042563915252686"
   ]
  },
  {
   "cell_type": "code",
   "execution_count": null,
   "id": "4cc51117",
   "metadata": {},
   "outputs": [
    {
     "name": "stdout",
     "output_type": "stream",
     "text": [
      "Arrow Enabled: true\n",
      "Time with Arrow: 0.3993797302246094\n"
     ]
    }
   ],
   "source": [
    "# Arrow Enabled\n",
    "spark.conf.set(\"spark.sql.execution.arrow.pyspark.enabled\", \"true\")\n",
    "print(\"Arrow Enabled:\", spark.conf.get(\"spark.sql.execution.arrow.pyspark.enabled\"))\n",
    "# Arrow Enabled: true\n",
    "\n",
    "start = time.time()\n",
    "pdf = df_transformed.toPandas()\n",
    "end = time.time()\n",
    "\n",
    "print(\"Time with Arrow:\", end - start)\n",
    "\n",
    "# Time with Arrow: 0.3993797302246094"
   ]
  },
  {
   "cell_type": "code",
   "execution_count": 7,
   "id": "2b63bef3",
   "metadata": {},
   "outputs": [],
   "source": [
    "spark.stop()"
   ]
  }
 ],
 "metadata": {
  "kernelspec": {
   "display_name": "venv",
   "language": "python",
   "name": "python3"
  },
  "language_info": {
   "codemirror_mode": {
    "name": "ipython",
    "version": 3
   },
   "file_extension": ".py",
   "mimetype": "text/x-python",
   "name": "python",
   "nbconvert_exporter": "python",
   "pygments_lexer": "ipython3",
   "version": "3.11.9"
  }
 },
 "nbformat": 4,
 "nbformat_minor": 5
}
